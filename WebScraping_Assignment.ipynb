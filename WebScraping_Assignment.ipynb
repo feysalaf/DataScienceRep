{
 "cells": [
  {
   "cell_type": "code",
   "execution_count": 86,
   "id": "73c0f520",
   "metadata": {},
   "outputs": [],
   "source": [
    "import requests\n",
    "from bs4 import BeautifulSoup as bs\n",
    "from IPython.display import Code\n",
    "import pandas as pd\n"
   ]
  },
  {
   "cell_type": "code",
   "execution_count": 112,
   "id": "f74c927b",
   "metadata": {},
   "outputs": [
    {
     "name": "stdout",
     "output_type": "stream",
     "text": [
      "                                            Country  \\\n",
      "0                     Liechtenstein Travel Advisory   \n",
      "1                   North Macedonia Travel Advisory   \n",
      "2                             Nauru Travel Advisory   \n",
      "3                            Palau Travel Advisory    \n",
      "4                   Burma (Myanmar) Travel Advisory   \n",
      "..                                              ...   \n",
      "95                            Iraq Travel Advisory    \n",
      "96  Israel, The West Bank and Gaza Travel Advisory    \n",
      "97                           Italy Travel Advisory    \n",
      "98                          Jamaica Travel Advisory   \n",
      "99                           Jordan Travel Advisory   \n",
      "\n",
      "                              Precaution        Published  \n",
      "0   Level 1: Exercise Normal Precautions  October 4, 2022  \n",
      "1   Level 1: Exercise Normal Precautions  October 4, 2022  \n",
      "2   Level 1: Exercise Normal Precautions  October 5, 2022  \n",
      "3   Level 1: Exercise Normal Precautions  October 5, 2022  \n",
      "4                 Level 4: Do Not Travel  October 5, 2022  \n",
      "..                                   ...              ...  \n",
      "95                Level 4: Do Not Travel  October 5, 2022  \n",
      "96   Level 2: Exercise Increased Caution  October 5, 2022  \n",
      "97   Level 2: Exercise Increased Caution  October 4, 2022  \n",
      "98            Level 3: Reconsider Travel  October 5, 2022  \n",
      "99   Level 2: Exercise Increased Caution  October 5, 2022  \n",
      "\n",
      "[100 rows x 3 columns]\n"
     ]
    }
   ],
   "source": [
    "response = requests.get(\"https://travel.state.gov/content/travel/en/traveladvisories/traveladvisories.html/\")\n",
    "\n",
    "soup = bs(response.content,'html5lib')\n",
    "return_data = []\n",
    "\n",
    "\n",
    "\n",
    "table = soup.find_all('div',attrs={'class':'table-data'})\n",
    "# Collecting Ddata\n",
    "counter = 0\n",
    "counter_ = 0\n",
    "for row in table:\n",
    "    # Find all data for each column\n",
    "    data = row.find_all('td')\n",
    "    for row in data:\n",
    "        if row.a is not None:\n",
    "            country_name = row.text\n",
    "        else:\n",
    "            if(counter%2 == 0):\n",
    "                precaution = row.text\n",
    "                counter = counter + 1\n",
    "            else:\n",
    "                published_date = row.text\n",
    "                counter = counter + 1\n",
    "        #log data to json\n",
    "        counter_ = counter_ + 1\n",
    "        if(counter_%3 == 0):\n",
    "            return_data.append({'Country':country_name,'Precaution':precaution,'Published':published_date})\n",
    "        \n",
    "        \n",
    "        \n",
    "df = pd.DataFrame.from_dict(return_data, orient='columns')\n",
    "print(df.head(100))\n",
    "        \n",
    "\n"
   ]
  }
 ],
 "metadata": {
  "kernelspec": {
   "display_name": "Python 3 (ipykernel)",
   "language": "python",
   "name": "python3"
  },
  "language_info": {
   "codemirror_mode": {
    "name": "ipython",
    "version": 3
   },
   "file_extension": ".py",
   "mimetype": "text/x-python",
   "name": "python",
   "nbconvert_exporter": "python",
   "pygments_lexer": "ipython3",
   "version": "3.10.6"
  }
 },
 "nbformat": 4,
 "nbformat_minor": 5
}
