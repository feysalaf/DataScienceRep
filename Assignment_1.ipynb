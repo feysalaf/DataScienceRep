{
 "cells": [
  {
   "cell_type": "code",
   "execution_count": 924,
   "metadata": {},
   "outputs": [],
   "source": [
    "import pandas as pd\n",
    "import numpy as np\n",
    "import os\n",
    "import re\n",
    "# pd.set_option('display.max_columns',None)\n",
    "# pd.set_option('display.max_rows',None)"
   ]
  },
  {
   "cell_type": "markdown",
   "metadata": {},
   "source": [
    "### Changes to dataset\n",
    "Row 74. Gpa change from .2.84 to 2.84"
   ]
  },
  {
   "cell_type": "code",
   "execution_count": 925,
   "metadata": {},
   "outputs": [],
   "source": [
    "fav_color_feature_enum = [\n",
    "    {\"brown?|Brown?|BROWN?\":\"Brown\"},\n",
    "    {\"black?|Black?|BLACK?|/sBlack?|Black/s?|black/s?\":\"Black\"},\n",
    "    {\"orange?|Orange?|ORANGE?\":\"Orange\"},\n",
    "    {\"green?|Green?|GREEN?|Light Green?\":\"Green\"},\n",
    "    {\"yellow?|Yellow?|YELLOW\":\"Yellow\"},\n",
    "    {\"blue?|Blue?|BLUE?|Dark\\sBlue?|Navy Blue?\":\"Blue\"},\n",
    "    {\"Red?\":\"Red\"},\n",
    "    {\"Pink?\":\"Pink\"},\n",
    "    {\"Peach?\":\"Peach\"},\n",
    "    {\"Gray and Brown?|Grey?|Mustard\":\"Gray\"},\n",
    "    {\"Purple?|\\sPurple?|Purple\\s?\":\"Purple\"},\n",
    "    {\"white?|White?\":\"White\"}\n",
    "\n",
    "]\n",
    "\n",
    "\n",
    "birth_month_feature_enum = [\n",
    "    {\"january?\":\"January\"},\n",
    "    {\"february?\":\"February\"},\n",
    "    {\"march?\":\"March\"},\n",
    "    {\"april?\":\"April\"},\n",
    "    {\"may?\":\"May\"},\n",
    "    {\"june?\":\"June\"},\n",
    "    {\"july?\":\"July\"},\n",
    "    {\"august?\":\"August\"},\n",
    "    {\"september?|sep?\":\"September\"},\n",
    "    {\"october?\":\"October\"},\n",
    "    {\"november?\":\"November\"},\n",
    "    {\"december?\":\"December\"}\n",
    "]"
   ]
  },
  {
   "cell_type": "markdown",
   "metadata": {},
   "source": [
    "## Classes \n",
    "### Preprocessor\n",
    "Used for processing the file and placing them in the correct normalized format"
   ]
  },
  {
   "cell_type": "code",
   "execution_count": 929,
   "metadata": {},
   "outputs": [
    {
     "ename": "SyntaxError",
     "evalue": "incomplete input (2185836780.py, line 101)",
     "output_type": "error",
     "traceback": [
      "\u001b[0;36m  Input \u001b[0;32mIn [929]\u001b[0;36m\u001b[0m\n\u001b[0;31m    def corr_matrix(self):\u001b[0m\n\u001b[0m                          ^\u001b[0m\n\u001b[0;31mSyntaxError\u001b[0m\u001b[0;31m:\u001b[0m incomplete input\n"
     ]
    }
   ],
   "source": [
    "class preprocessor:\n",
    "    def __init__(self,filename:str):\n",
    "        self._filename:str = filename;\n",
    "        self.dataset_raw:str = \"\";\n",
    "        self.import_file()\n",
    "        self.normalize()\n",
    "        self.dataset_raw = self.dataset_raw.dropna() # Remove null rows\n",
    "\n",
    "    #private\n",
    "    def _match_exp(self,exp,col_name):\n",
    "        for i in self.dataset_raw[col_name]:\n",
    "            if(re.match(exp,i) is not None):\n",
    "                print(i)\n",
    "\n",
    "    def normalize_columns(self,input_val,enum_object):\n",
    "        tag = \"tagged\"\n",
    "        for i in enum_object:\n",
    "            for key in i:\n",
    "                if(input_val in key):\n",
    "                    output = re.sub(key,i[key],input_val,flags=re.I)\n",
    "                    return output\n",
    "                else:\n",
    "                    pass\n",
    "\n",
    "    \n",
    "    def normalize_columns_update(self,input_val,enum_object):\n",
    "        tag = \"tagged\"\n",
    "        for i in enum_object:\n",
    "            for key in i:\n",
    "                #if(input_val in key): <- The input must be present in the key for this to match\n",
    "                if(re.match(key,input_val,flags=re.I) is not None):\n",
    "                    output = re.sub(key,i[key],input_val,flags=re.I)\n",
    "                    return output\n",
    "                else:\n",
    "                    pass\n",
    "\n",
    "            \n",
    "    #normalization\n",
    "\n",
    "    def normalize(self):\n",
    "        #find and replace skin color \n",
    "        arr = []\n",
    "        for col in self.dataset_raw.columns:\n",
    "            arr.append(col)\n",
    "        #print(\"\\nData labels are: \" + str(arr))\n",
    "        print(\"\\nNormalizing data...\")\n",
    "        self.dataset_raw['FavoriteColor'] = self.dataset_raw['FavoriteColor'].str.strip()\n",
    "        self.dataset_raw['FavoriteColor'] = self.dataset_raw['FavoriteColor'].map(lambda x:self.normalize_columns(x,fav_color_feature_enum))\n",
    "        self.dataset_raw['BirthMonth'] = self.dataset_raw['BirthMonth'].str.strip()\n",
    "        self.dataset_raw['BirthMonth'] = self.dataset_raw['BirthMonth'].map(lambda x:self.normalize_columns_update(x,birth_month_feature_enum))\n",
    "\n",
    "    #public\n",
    "    def import_file(self):\n",
    "        print(\"\\nImporting the input file...\")\n",
    "\n",
    "        cwd = os.getcwd() + '/Datasets/';\n",
    "        self.dataset_raw = pd.read_csv(cwd + self._filename)\n",
    "        self.dataset_raw.columns = [c.replace(' ', '_') for c in self.dataset_raw.columns]\n",
    "\n",
    "    def display(self,rows=200):\n",
    "        print(self.dataset_raw.head())\n",
    "\n",
    "    def name_starting_with_letter(self,letter='H'):\n",
    "        exp = '^H'\n",
    "        self._match_exp(exp,'Name')\n",
    "\n",
    "    def num_of_words_in_names(self,num = 3):\n",
    "        exp = '^[\\w]+\\s[\\w]+\\s[\\w]+'\n",
    "        self._match_exp(exp,'Name')\n",
    "\n",
    "    def percentage_match_on_cgpa(self,gpa=3):\n",
    "        total_rows = self.dataset_raw.shape[0]\n",
    "        num = 0\n",
    "        for i in self.dataset_raw['CGPA']:\n",
    "            if(float(i)>=gpa):\n",
    "                num = num + 1\n",
    "        perc = (num/total_rows)*100\n",
    "        print(\"Percentage of students with CGPA above {}: {:.2f}\".format(gpa,perc))\n",
    "\n",
    "    def gender_ratio_pie_chart(self):\n",
    "        self.dataset_raw.groupby(['Gender']).size().plot(kind='pie',y=self.dataset_raw.shape[0]).set_ylabel(\"Gender Ratio\")\n",
    "\n",
    "    def plot_gpa_on_histogram(self):\n",
    "        col = self.dataset_raw\n",
    "        col = col[col.Gender != 'Female']\n",
    "        col.hist(column='CGPA', by='Gender', bins=[2.0, 2.6, 3.1, 4.0], grid=False)\n",
    "\n",
    "    def plot_hssc_marks(self):\n",
    "        self.dataset_raw_ = self.dataset_raw.drop(self.dataset_raw.index[1:120])\n",
    "        self.dataset_raw_.plot(x='HSSC-1', y='Gender',kind='scatter',c='cornflowerblue',)\n",
    "    \n",
    "    def fav_color_bar(self):\n",
    "        self.dataset_raw.groupby(['Gender'])['FavoriteColor'].value_counts().unstack().plot(kind='bar',stacked = True)\n",
    "\n",
    "    def birth_month_line_chart(self):\n",
    "        a = self.dataset_raw['BirthMonth'].value_counts()\n",
    "        month_order = ['January', 'February', 'March', 'April', 'May', 'June', 'July', 'August', 'September', 'October', 'November', 'December']\n",
    "        a = a.reindex(month_order,axis=0)\n",
    "        a.plot(kind='line',title=\"Birthday distribution\")\n",
    "\n",
    "    def corr_matrix(self):"
   ]
  },
  {
   "cell_type": "code",
   "execution_count": 927,
   "metadata": {},
   "outputs": [
    {
     "name": "stdout",
     "output_type": "stream",
     "text": [
      "yes\n",
      "Starting with H\n"
     ]
    }
   ],
   "source": [
    "s = 'March '\n",
    "if(re.match('march?',s,flags=re.I) is not None):\n",
    "    print(\"yes\")\n",
    "\n",
    "if(exp is not None):\n",
    "    print(\"Starting with H\")\n",
    "\n",
    "\n",
    "# m = \"march \"\n",
    "\n",
    "# r = re.sub('march','March',m,flags=re.I)\n",
    "# print(r)"
   ]
  },
  {
   "cell_type": "code",
   "execution_count": 928,
   "metadata": {},
   "outputs": [
    {
     "name": "stdout",
     "output_type": "stream",
     "text": [
      "\n",
      "Importing the input file...\n",
      "\n",
      "Normalizing data...\n"
     ]
    },
    {
     "data": {
      "image/png": "[encoded data removed]",
      "text/plain": [
       "<Figure size 432x288 with 1 Axes>"
      ]
     },
     "metadata": {
      "needs_background": "light"
     },
     "output_type": "display_data"
    }
   ],
   "source": [
    "prep = preprocessor('hello.csv')\n",
    "prep.corr_matrix()"
   ]
  }
 ],
 "metadata": {
  "kernelspec": {
   "display_name": "Python 3.10.6 64-bit",
   "language": "python",
   "name": "python3"
  },
  "language_info": {
   "codemirror_mode": {
    "name": "ipython",
    "version": 3
   },
   "file_extension": ".py",
   "mimetype": "text/x-python",
   "name": "python",
   "nbconvert_exporter": "python",
   "pygments_lexer": "ipython3",
   "version": "3.10.6"
  },
  "orig_nbformat": 4,
  "vscode": {
   "interpreter": {
    "hash": "916dbcbb3f70747c44a77c7bcd40155683ae19c65e1c03b4aa3499c5328201f1"
   }
  }
 },
 "nbformat": 4,
 "nbformat_minor": 2
}
